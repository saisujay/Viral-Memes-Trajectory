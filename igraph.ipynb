{
 "cells": [
  {
   "cell_type": "code",
   "execution_count": 1,
   "metadata": {},
   "outputs": [],
   "source": [
    "import igraph as ig"
   ]
  },
  {
   "cell_type": "code",
   "execution_count": 2,
   "metadata": {},
   "outputs": [],
   "source": [
    "G = ig.Graph()"
   ]
  },
  {
   "cell_type": "code",
   "execution_count": 3,
   "metadata": {},
   "outputs": [],
   "source": [
    "G.add_vertices(36)"
   ]
  },
  {
   "cell_type": "code",
   "execution_count": 4,
   "metadata": {},
   "outputs": [],
   "source": [
    "G.add_edges([(0,1),(1,3),(2,3),(3,5),(4,5),(5,6),(6,8),(7,8),(8,13),(9,13),(10,13),(11,13),(12,13),(13,14),(14,15),(15,16),(14,17),(17,19),(19,18),(19,22),(22,20),(22,21),(22,23),(23,24),(24,25),(23,25),(22,25),(25,27),(26,27),(26,28),(27,29),(26,29),(28,29),(27,28),(28,30),(29,30),(30,31),(31,32),(32,33),(31,33),(33,35),(33,34),(7,35)])"
   ]
  },
  {
   "cell_type": "code",
   "execution_count": 5,
   "metadata": {},
   "outputs": [
    {
     "name": "stdout",
     "output_type": "stream",
     "text": [
      "IGRAPH U--- 36 43 --\n",
      "+ edges:\n",
      "0--1 1--3 2--3 3--5 4--5 5--6 6--8 7--8 8--13 9--13 10--13 11--13 12--13\n",
      "13--14 14--15 15--16 14--17 17--19 18--19 19--22 20--22 21--22 22--23 23--24\n",
      "24--25 23--25 22--25 25--27 26--27 26--28 27--29 26--29 28--29 27--28 28--30\n",
      "29--30 30--31 31--32 32--33 31--33 33--35 33--34 7--35\n"
     ]
    }
   ],
   "source": [
    "print(G)"
   ]
  },
  {
   "cell_type": "code",
   "execution_count": 117,
   "metadata": {},
   "outputs": [],
   "source": [
    "#G.degree()"
   ]
  },
  {
   "cell_type": "code",
   "execution_count": 98,
   "metadata": {},
   "outputs": [
    {
     "data": {
      "image/svg+xml": [
       "<?xml version=\"1.0\" encoding=\"UTF-8\"?>\n",
       "<svg xmlns=\"http://www.w3.org/2000/svg\" xmlns:xlink=\"http://www.w3.org/1999/xlink\" width=\"600pt\" height=\"600pt\" viewBox=\"0 0 600 600\" version=\"1.1\">\n",
       "<g id=\"surface62\">\n",
       "<rect x=\"0\" y=\"0\" width=\"600\" height=\"600\" style=\"fill:rgb(100%,100%,100%);fill-opacity:1;stroke:none;\"/>\n",
       "<path style=\"fill:none;stroke-width:1;stroke-linecap:butt;stroke-linejoin:miter;stroke:rgb(26.666667%,26.666667%,26.666667%);stroke-opacity:1;stroke-miterlimit:10;\" d=\"M 580 580 L 542.183594 531.015625 \"/>\n",
       "<path style=\"fill:none;stroke-width:1;stroke-linecap:butt;stroke-linejoin:miter;stroke:rgb(26.666667%,26.666667%,26.666667%);stroke-opacity:1;stroke-miterlimit:10;\" d=\"M 542.183594 531.015625 L 509.613281 471.464844 \"/>\n",
       "<path style=\"fill:none;stroke-width:1;stroke-linecap:butt;stroke-linejoin:miter;stroke:rgb(26.666667%,26.666667%,26.666667%);stroke-opacity:1;stroke-miterlimit:10;\" d=\"M 565.066406 440.730469 L 509.613281 471.464844 \"/>\n",
       "<path style=\"fill:none;stroke-width:1;stroke-linecap:butt;stroke-linejoin:miter;stroke:rgb(26.666667%,26.666667%,26.666667%);stroke-opacity:1;stroke-miterlimit:10;\" d=\"M 509.613281 471.464844 L 446.375 458.113281 \"/>\n",
       "<path style=\"fill:none;stroke-width:1;stroke-linecap:butt;stroke-linejoin:miter;stroke:rgb(26.666667%,26.666667%,26.666667%);stroke-opacity:1;stroke-miterlimit:10;\" d=\"M 437.101563 527.667969 L 446.375 458.113281 \"/>\n",
       "<path style=\"fill:none;stroke-width:1;stroke-linecap:butt;stroke-linejoin:miter;stroke:rgb(26.666667%,26.666667%,26.666667%);stroke-opacity:1;stroke-miterlimit:10;\" d=\"M 446.375 458.113281 L 396.867188 411.742188 \"/>\n",
       "<path style=\"fill:none;stroke-width:1;stroke-linecap:butt;stroke-linejoin:miter;stroke:rgb(26.666667%,26.666667%,26.666667%);stroke-opacity:1;stroke-miterlimit:10;\" d=\"M 396.867188 411.742188 L 339.5 371.734375 \"/>\n",
       "<path style=\"fill:none;stroke-width:1;stroke-linecap:butt;stroke-linejoin:miter;stroke:rgb(26.666667%,26.666667%,26.666667%);stroke-opacity:1;stroke-miterlimit:10;\" d=\"M 364.210938 300.683594 L 339.5 371.734375 \"/>\n",
       "<path style=\"fill:none;stroke-width:1;stroke-linecap:butt;stroke-linejoin:miter;stroke:rgb(26.666667%,26.666667%,26.666667%);stroke-opacity:1;stroke-miterlimit:10;\" d=\"M 339.5 371.734375 L 268.269531 405.128906 \"/>\n",
       "<path style=\"fill:none;stroke-width:1;stroke-linecap:butt;stroke-linejoin:miter;stroke:rgb(26.666667%,26.666667%,26.666667%);stroke-opacity:1;stroke-miterlimit:10;\" d=\"M 270.941406 360.105469 L 268.269531 405.128906 \"/>\n",
       "<path style=\"fill:none;stroke-width:1;stroke-linecap:butt;stroke-linejoin:miter;stroke:rgb(26.666667%,26.666667%,26.666667%);stroke-opacity:1;stroke-miterlimit:10;\" d=\"M 236.464844 457.929688 L 268.269531 405.128906 \"/>\n",
       "<path style=\"fill:none;stroke-width:1;stroke-linecap:butt;stroke-linejoin:miter;stroke:rgb(26.666667%,26.666667%,26.666667%);stroke-opacity:1;stroke-miterlimit:10;\" d=\"M 299.1875 452.28125 L 268.269531 405.128906 \"/>\n",
       "<path style=\"fill:none;stroke-width:1;stroke-linecap:butt;stroke-linejoin:miter;stroke:rgb(26.666667%,26.666667%,26.666667%);stroke-opacity:1;stroke-miterlimit:10;\" d=\"M 267.441406 478.167969 L 268.269531 405.128906 \"/>\n",
       "<path style=\"fill:none;stroke-width:1;stroke-linecap:butt;stroke-linejoin:miter;stroke:rgb(26.666667%,26.666667%,26.666667%);stroke-opacity:1;stroke-miterlimit:10;\" d=\"M 268.269531 405.128906 L 196.0625 387.53125 \"/>\n",
       "<path style=\"fill:none;stroke-width:1;stroke-linecap:butt;stroke-linejoin:miter;stroke:rgb(26.666667%,26.666667%,26.666667%);stroke-opacity:1;stroke-miterlimit:10;\" d=\"M 196.0625 387.53125 L 152.09375 445.980469 \"/>\n",
       "<path style=\"fill:none;stroke-width:1;stroke-linecap:butt;stroke-linejoin:miter;stroke:rgb(26.666667%,26.666667%,26.666667%);stroke-opacity:1;stroke-miterlimit:10;\" d=\"M 152.09375 445.980469 L 115.726563 502.445313 \"/>\n",
       "<path style=\"fill:none;stroke-width:1;stroke-linecap:butt;stroke-linejoin:miter;stroke:rgb(26.666667%,26.666667%,26.666667%);stroke-opacity:1;stroke-miterlimit:10;\" d=\"M 196.0625 387.53125 L 150.570313 334.175781 \"/>\n",
       "<path style=\"fill:none;stroke-width:1;stroke-linecap:butt;stroke-linejoin:miter;stroke:rgb(26.666667%,26.666667%,26.666667%);stroke-opacity:1;stroke-miterlimit:10;\" d=\"M 150.570313 334.175781 L 103.460938 281.429688 \"/>\n",
       "<path style=\"fill:none;stroke-width:1;stroke-linecap:butt;stroke-linejoin:miter;stroke:rgb(26.666667%,26.666667%,26.666667%);stroke-opacity:1;stroke-miterlimit:10;\" d=\"M 46.285156 316.011719 L 103.460938 281.429688 \"/>\n",
       "<path style=\"fill:none;stroke-width:1;stroke-linecap:butt;stroke-linejoin:miter;stroke:rgb(26.666667%,26.666667%,26.666667%);stroke-opacity:1;stroke-miterlimit:10;\" d=\"M 103.460938 281.429688 L 82.992188 205.019531 \"/>\n",
       "<path style=\"fill:none;stroke-width:1;stroke-linecap:butt;stroke-linejoin:miter;stroke:rgb(26.666667%,26.666667%,26.666667%);stroke-opacity:1;stroke-miterlimit:10;\" d=\"M 119.382813 206.984375 L 82.992188 205.019531 \"/>\n",
       "<path style=\"fill:none;stroke-width:1;stroke-linecap:butt;stroke-linejoin:miter;stroke:rgb(26.666667%,26.666667%,26.666667%);stroke-opacity:1;stroke-miterlimit:10;\" d=\"M 20 212.25 L 82.992188 205.019531 \"/>\n",
       "<path style=\"fill:none;stroke-width:1;stroke-linecap:butt;stroke-linejoin:miter;stroke:rgb(26.666667%,26.666667%,26.666667%);stroke-opacity:1;stroke-miterlimit:10;\" d=\"M 82.992188 205.019531 L 62.683594 147.519531 \"/>\n",
       "<path style=\"fill:none;stroke-width:1;stroke-linecap:butt;stroke-linejoin:miter;stroke:rgb(26.666667%,26.666667%,26.666667%);stroke-opacity:1;stroke-miterlimit:10;\" d=\"M 62.683594 147.519531 L 55.613281 88.757813 \"/>\n",
       "<path style=\"fill:none;stroke-width:1;stroke-linecap:butt;stroke-linejoin:miter;stroke:rgb(26.666667%,26.666667%,26.666667%);stroke-opacity:1;stroke-miterlimit:10;\" d=\"M 55.613281 88.757813 L 109.421875 129.0625 \"/>\n",
       "<path style=\"fill:none;stroke-width:1;stroke-linecap:butt;stroke-linejoin:miter;stroke:rgb(26.666667%,26.666667%,26.666667%);stroke-opacity:1;stroke-miterlimit:10;\" d=\"M 62.683594 147.519531 L 109.421875 129.0625 \"/>\n",
       "<path style=\"fill:none;stroke-width:1;stroke-linecap:butt;stroke-linejoin:miter;stroke:rgb(26.666667%,26.666667%,26.666667%);stroke-opacity:1;stroke-miterlimit:10;\" d=\"M 82.992188 205.019531 L 109.421875 129.0625 \"/>\n",
       "<path style=\"fill:none;stroke-width:1;stroke-linecap:butt;stroke-linejoin:miter;stroke:rgb(26.666667%,26.666667%,26.666667%);stroke-opacity:1;stroke-miterlimit:10;\" d=\"M 109.421875 129.0625 L 156.464844 77.625 \"/>\n",
       "<path style=\"fill:none;stroke-width:1;stroke-linecap:butt;stroke-linejoin:miter;stroke:rgb(26.666667%,26.666667%,26.666667%);stroke-opacity:1;stroke-miterlimit:10;\" d=\"M 170.097656 20 L 156.464844 77.625 \"/>\n",
       "<path style=\"fill:none;stroke-width:1;stroke-linecap:butt;stroke-linejoin:miter;stroke:rgb(26.666667%,26.666667%,26.666667%);stroke-opacity:1;stroke-miterlimit:10;\" d=\"M 170.097656 20 L 212.59375 71.507813 \"/>\n",
       "<path style=\"fill:none;stroke-width:1;stroke-linecap:butt;stroke-linejoin:miter;stroke:rgb(26.666667%,26.666667%,26.666667%);stroke-opacity:1;stroke-miterlimit:10;\" d=\"M 156.464844 77.625 L 215.832031 35.757813 \"/>\n",
       "<path style=\"fill:none;stroke-width:1;stroke-linecap:butt;stroke-linejoin:miter;stroke:rgb(26.666667%,26.666667%,26.666667%);stroke-opacity:1;stroke-miterlimit:10;\" d=\"M 170.097656 20 L 215.832031 35.757813 \"/>\n",
       "<path style=\"fill:none;stroke-width:1;stroke-linecap:butt;stroke-linejoin:miter;stroke:rgb(26.666667%,26.666667%,26.666667%);stroke-opacity:1;stroke-miterlimit:10;\" d=\"M 212.59375 71.507813 L 215.832031 35.757813 \"/>\n",
       "<path style=\"fill:none;stroke-width:1;stroke-linecap:butt;stroke-linejoin:miter;stroke:rgb(26.666667%,26.666667%,26.666667%);stroke-opacity:1;stroke-miterlimit:10;\" d=\"M 156.464844 77.625 L 212.59375 71.507813 \"/>\n",
       "<path style=\"fill:none;stroke-width:1;stroke-linecap:butt;stroke-linejoin:miter;stroke:rgb(26.666667%,26.666667%,26.666667%);stroke-opacity:1;stroke-miterlimit:10;\" d=\"M 212.59375 71.507813 L 274.355469 61.984375 \"/>\n",
       "<path style=\"fill:none;stroke-width:1;stroke-linecap:butt;stroke-linejoin:miter;stroke:rgb(26.666667%,26.666667%,26.666667%);stroke-opacity:1;stroke-miterlimit:10;\" d=\"M 215.832031 35.757813 L 274.355469 61.984375 \"/>\n",
       "<path style=\"fill:none;stroke-width:1;stroke-linecap:butt;stroke-linejoin:miter;stroke:rgb(26.666667%,26.666667%,26.666667%);stroke-opacity:1;stroke-miterlimit:10;\" d=\"M 274.355469 61.984375 L 327.9375 102.347656 \"/>\n",
       "<path style=\"fill:none;stroke-width:1;stroke-linecap:butt;stroke-linejoin:miter;stroke:rgb(26.666667%,26.666667%,26.666667%);stroke-opacity:1;stroke-miterlimit:10;\" d=\"M 327.9375 102.347656 L 378.511719 94.015625 \"/>\n",
       "<path style=\"fill:none;stroke-width:1;stroke-linecap:butt;stroke-linejoin:miter;stroke:rgb(26.666667%,26.666667%,26.666667%);stroke-opacity:1;stroke-miterlimit:10;\" d=\"M 378.511719 94.015625 L 374.371094 156.042969 \"/>\n",
       "<path style=\"fill:none;stroke-width:1;stroke-linecap:butt;stroke-linejoin:miter;stroke:rgb(26.666667%,26.666667%,26.666667%);stroke-opacity:1;stroke-miterlimit:10;\" d=\"M 327.9375 102.347656 L 374.371094 156.042969 \"/>\n",
       "<path style=\"fill:none;stroke-width:1;stroke-linecap:butt;stroke-linejoin:miter;stroke:rgb(26.666667%,26.666667%,26.666667%);stroke-opacity:1;stroke-miterlimit:10;\" d=\"M 374.371094 156.042969 L 377.96875 229.285156 \"/>\n",
       "<path style=\"fill:none;stroke-width:1;stroke-linecap:butt;stroke-linejoin:miter;stroke:rgb(26.666667%,26.666667%,26.666667%);stroke-opacity:1;stroke-miterlimit:10;\" d=\"M 374.371094 156.042969 L 436.625 132.046875 \"/>\n",
       "<path style=\"fill:none;stroke-width:1;stroke-linecap:butt;stroke-linejoin:miter;stroke:rgb(26.666667%,26.666667%,26.666667%);stroke-opacity:1;stroke-miterlimit:10;\" d=\"M 364.210938 300.683594 L 377.96875 229.285156 \"/>\n",
       "<path style=\"fill-rule:nonzero;fill:rgb(100%,0%,0%);fill-opacity:1;stroke-width:1;stroke-linecap:butt;stroke-linejoin:miter;stroke:rgb(0%,0%,0%);stroke-opacity:1;stroke-miterlimit:10;\" d=\"M 590 580 C 590 585.523438 585.523438 590 580 590 C 574.476563 590 570 585.523438 570 580 C 570 574.476563 574.476563 570 580 570 C 585.523438 570 590 574.476563 590 580 \"/>\n",
       "<path style=\"fill-rule:nonzero;fill:rgb(100%,0%,0%);fill-opacity:1;stroke-width:1;stroke-linecap:butt;stroke-linejoin:miter;stroke:rgb(0%,0%,0%);stroke-opacity:1;stroke-miterlimit:10;\" d=\"M 552.183594 531.015625 C 552.183594 536.539063 547.703125 541.015625 542.183594 541.015625 C 536.660156 541.015625 532.183594 536.539063 532.183594 531.015625 C 532.183594 525.492188 536.660156 521.015625 542.183594 521.015625 C 547.703125 521.015625 552.183594 525.492188 552.183594 531.015625 \"/>\n",
       "<path style=\"fill-rule:nonzero;fill:rgb(100%,0%,0%);fill-opacity:1;stroke-width:1;stroke-linecap:butt;stroke-linejoin:miter;stroke:rgb(0%,0%,0%);stroke-opacity:1;stroke-miterlimit:10;\" d=\"M 575.066406 440.730469 C 575.066406 446.253906 570.589844 450.730469 565.066406 450.730469 C 559.542969 450.730469 555.066406 446.253906 555.066406 440.730469 C 555.066406 435.207031 559.542969 430.730469 565.066406 430.730469 C 570.589844 430.730469 575.066406 435.207031 575.066406 440.730469 \"/>\n",
       "<path style=\"fill-rule:nonzero;fill:rgb(100%,0%,0%);fill-opacity:1;stroke-width:1;stroke-linecap:butt;stroke-linejoin:miter;stroke:rgb(0%,0%,0%);stroke-opacity:1;stroke-miterlimit:10;\" d=\"M 519.613281 471.464844 C 519.613281 476.988281 515.136719 481.464844 509.613281 481.464844 C 504.089844 481.464844 499.613281 476.988281 499.613281 471.464844 C 499.613281 465.941406 504.089844 461.464844 509.613281 461.464844 C 515.136719 461.464844 519.613281 465.941406 519.613281 471.464844 \"/>\n",
       "<path style=\"fill-rule:nonzero;fill:rgb(100%,0%,0%);fill-opacity:1;stroke-width:1;stroke-linecap:butt;stroke-linejoin:miter;stroke:rgb(0%,0%,0%);stroke-opacity:1;stroke-miterlimit:10;\" d=\"M 447.101563 527.667969 C 447.101563 533.191406 442.625 537.667969 437.101563 537.667969 C 431.578125 537.667969 427.101563 533.191406 427.101563 527.667969 C 427.101563 522.144531 431.578125 517.667969 437.101563 517.667969 C 442.625 517.667969 447.101563 522.144531 447.101563 527.667969 \"/>\n",
       "<path style=\"fill-rule:nonzero;fill:rgb(100%,0%,0%);fill-opacity:1;stroke-width:1;stroke-linecap:butt;stroke-linejoin:miter;stroke:rgb(0%,0%,0%);stroke-opacity:1;stroke-miterlimit:10;\" d=\"M 456.375 458.113281 C 456.375 463.636719 451.898438 468.113281 446.375 468.113281 C 440.851563 468.113281 436.375 463.636719 436.375 458.113281 C 436.375 452.589844 440.851563 448.113281 446.375 448.113281 C 451.898438 448.113281 456.375 452.589844 456.375 458.113281 \"/>\n",
       "<path style=\"fill-rule:nonzero;fill:rgb(100%,0%,0%);fill-opacity:1;stroke-width:1;stroke-linecap:butt;stroke-linejoin:miter;stroke:rgb(0%,0%,0%);stroke-opacity:1;stroke-miterlimit:10;\" d=\"M 406.867188 411.742188 C 406.867188 417.265625 402.390625 421.742188 396.867188 421.742188 C 391.34375 421.742188 386.867188 417.265625 386.867188 411.742188 C 386.867188 406.21875 391.34375 401.742188 396.867188 401.742188 C 402.390625 401.742188 406.867188 406.21875 406.867188 411.742188 \"/>\n",
       "<path style=\"fill-rule:nonzero;fill:rgb(100%,0%,0%);fill-opacity:1;stroke-width:1;stroke-linecap:butt;stroke-linejoin:miter;stroke:rgb(0%,0%,0%);stroke-opacity:1;stroke-miterlimit:10;\" d=\"M 374.210938 300.683594 C 374.210938 306.207031 369.734375 310.683594 364.210938 310.683594 C 358.6875 310.683594 354.210938 306.207031 354.210938 300.683594 C 354.210938 295.160156 358.6875 290.683594 364.210938 290.683594 C 369.734375 290.683594 374.210938 295.160156 374.210938 300.683594 \"/>\n",
       "<path style=\"fill-rule:nonzero;fill:rgb(100%,0%,0%);fill-opacity:1;stroke-width:1;stroke-linecap:butt;stroke-linejoin:miter;stroke:rgb(0%,0%,0%);stroke-opacity:1;stroke-miterlimit:10;\" d=\"M 349.5 371.734375 C 349.5 377.257813 345.023438 381.734375 339.5 381.734375 C 333.976563 381.734375 329.5 377.257813 329.5 371.734375 C 329.5 366.210938 333.976563 361.734375 339.5 361.734375 C 345.023438 361.734375 349.5 366.210938 349.5 371.734375 \"/>\n",
       "<path style=\"fill-rule:nonzero;fill:rgb(100%,0%,0%);fill-opacity:1;stroke-width:1;stroke-linecap:butt;stroke-linejoin:miter;stroke:rgb(0%,0%,0%);stroke-opacity:1;stroke-miterlimit:10;\" d=\"M 280.941406 360.105469 C 280.941406 365.628906 276.464844 370.105469 270.941406 370.105469 C 265.417969 370.105469 260.941406 365.628906 260.941406 360.105469 C 260.941406 354.582031 265.417969 350.105469 270.941406 350.105469 C 276.464844 350.105469 280.941406 354.582031 280.941406 360.105469 \"/>\n",
       "<path style=\"fill-rule:nonzero;fill:rgb(100%,0%,0%);fill-opacity:1;stroke-width:1;stroke-linecap:butt;stroke-linejoin:miter;stroke:rgb(0%,0%,0%);stroke-opacity:1;stroke-miterlimit:10;\" d=\"M 246.464844 457.929688 C 246.464844 463.453125 241.988281 467.929688 236.464844 467.929688 C 230.941406 467.929688 226.464844 463.453125 226.464844 457.929688 C 226.464844 452.40625 230.941406 447.929688 236.464844 447.929688 C 241.988281 447.929688 246.464844 452.40625 246.464844 457.929688 \"/>\n",
       "<path style=\"fill-rule:nonzero;fill:rgb(100%,0%,0%);fill-opacity:1;stroke-width:1;stroke-linecap:butt;stroke-linejoin:miter;stroke:rgb(0%,0%,0%);stroke-opacity:1;stroke-miterlimit:10;\" d=\"M 309.1875 452.28125 C 309.1875 457.804688 304.710938 462.28125 299.1875 462.28125 C 293.664063 462.28125 289.1875 457.804688 289.1875 452.28125 C 289.1875 446.757813 293.664063 442.28125 299.1875 442.28125 C 304.710938 442.28125 309.1875 446.757813 309.1875 452.28125 \"/>\n",
       "<path style=\"fill-rule:nonzero;fill:rgb(100%,0%,0%);fill-opacity:1;stroke-width:1;stroke-linecap:butt;stroke-linejoin:miter;stroke:rgb(0%,0%,0%);stroke-opacity:1;stroke-miterlimit:10;\" d=\"M 277.441406 478.167969 C 277.441406 483.691406 272.964844 488.167969 267.441406 488.167969 C 261.917969 488.167969 257.441406 483.691406 257.441406 478.167969 C 257.441406 472.644531 261.917969 468.167969 267.441406 468.167969 C 272.964844 468.167969 277.441406 472.644531 277.441406 478.167969 \"/>\n",
       "<path style=\"fill-rule:nonzero;fill:rgb(100%,0%,0%);fill-opacity:1;stroke-width:1;stroke-linecap:butt;stroke-linejoin:miter;stroke:rgb(0%,0%,0%);stroke-opacity:1;stroke-miterlimit:10;\" d=\"M 278.269531 405.128906 C 278.269531 410.652344 273.792969 415.128906 268.269531 415.128906 C 262.746094 415.128906 258.269531 410.652344 258.269531 405.128906 C 258.269531 399.605469 262.746094 395.128906 268.269531 395.128906 C 273.792969 395.128906 278.269531 399.605469 278.269531 405.128906 \"/>\n",
       "<path style=\"fill-rule:nonzero;fill:rgb(100%,0%,0%);fill-opacity:1;stroke-width:1;stroke-linecap:butt;stroke-linejoin:miter;stroke:rgb(0%,0%,0%);stroke-opacity:1;stroke-miterlimit:10;\" d=\"M 206.0625 387.53125 C 206.0625 393.054688 201.585938 397.53125 196.0625 397.53125 C 190.539063 397.53125 186.0625 393.054688 186.0625 387.53125 C 186.0625 382.007813 190.539063 377.53125 196.0625 377.53125 C 201.585938 377.53125 206.0625 382.007813 206.0625 387.53125 \"/>\n",
       "<path style=\"fill-rule:nonzero;fill:rgb(100%,0%,0%);fill-opacity:1;stroke-width:1;stroke-linecap:butt;stroke-linejoin:miter;stroke:rgb(0%,0%,0%);stroke-opacity:1;stroke-miterlimit:10;\" d=\"M 162.09375 445.980469 C 162.09375 451.503906 157.617188 455.980469 152.09375 455.980469 C 146.570313 455.980469 142.09375 451.503906 142.09375 445.980469 C 142.09375 440.457031 146.570313 435.980469 152.09375 435.980469 C 157.617188 435.980469 162.09375 440.457031 162.09375 445.980469 \"/>\n",
       "<path style=\"fill-rule:nonzero;fill:rgb(100%,0%,0%);fill-opacity:1;stroke-width:1;stroke-linecap:butt;stroke-linejoin:miter;stroke:rgb(0%,0%,0%);stroke-opacity:1;stroke-miterlimit:10;\" d=\"M 125.726563 502.445313 C 125.726563 507.96875 121.25 512.445313 115.726563 512.445313 C 110.203125 512.445313 105.726563 507.96875 105.726563 502.445313 C 105.726563 496.921875 110.203125 492.445313 115.726563 492.445313 C 121.25 492.445313 125.726563 496.921875 125.726563 502.445313 \"/>\n",
       "<path style=\"fill-rule:nonzero;fill:rgb(100%,0%,0%);fill-opacity:1;stroke-width:1;stroke-linecap:butt;stroke-linejoin:miter;stroke:rgb(0%,0%,0%);stroke-opacity:1;stroke-miterlimit:10;\" d=\"M 160.570313 334.175781 C 160.570313 339.699219 156.09375 344.175781 150.570313 344.175781 C 145.046875 344.175781 140.570313 339.699219 140.570313 334.175781 C 140.570313 328.652344 145.046875 324.175781 150.570313 324.175781 C 156.09375 324.175781 160.570313 328.652344 160.570313 334.175781 \"/>\n",
       "<path style=\"fill-rule:nonzero;fill:rgb(100%,0%,0%);fill-opacity:1;stroke-width:1;stroke-linecap:butt;stroke-linejoin:miter;stroke:rgb(0%,0%,0%);stroke-opacity:1;stroke-miterlimit:10;\" d=\"M 56.285156 316.011719 C 56.285156 321.535156 51.808594 326.011719 46.285156 326.011719 C 40.761719 326.011719 36.285156 321.535156 36.285156 316.011719 C 36.285156 310.488281 40.761719 306.011719 46.285156 306.011719 C 51.808594 306.011719 56.285156 310.488281 56.285156 316.011719 \"/>\n",
       "<path style=\"fill-rule:nonzero;fill:rgb(100%,0%,0%);fill-opacity:1;stroke-width:1;stroke-linecap:butt;stroke-linejoin:miter;stroke:rgb(0%,0%,0%);stroke-opacity:1;stroke-miterlimit:10;\" d=\"M 113.460938 281.429688 C 113.460938 286.953125 108.984375 291.429688 103.460938 291.429688 C 97.9375 291.429688 93.460938 286.953125 93.460938 281.429688 C 93.460938 275.90625 97.9375 271.429688 103.460938 271.429688 C 108.984375 271.429688 113.460938 275.90625 113.460938 281.429688 \"/>\n",
       "<path style=\"fill-rule:nonzero;fill:rgb(100%,0%,0%);fill-opacity:1;stroke-width:1;stroke-linecap:butt;stroke-linejoin:miter;stroke:rgb(0%,0%,0%);stroke-opacity:1;stroke-miterlimit:10;\" d=\"M 129.382813 206.984375 C 129.382813 212.507813 124.90625 216.984375 119.382813 216.984375 C 113.859375 216.984375 109.382813 212.507813 109.382813 206.984375 C 109.382813 201.460938 113.859375 196.984375 119.382813 196.984375 C 124.90625 196.984375 129.382813 201.460938 129.382813 206.984375 \"/>\n",
       "<path style=\"fill-rule:nonzero;fill:rgb(100%,0%,0%);fill-opacity:1;stroke-width:1;stroke-linecap:butt;stroke-linejoin:miter;stroke:rgb(0%,0%,0%);stroke-opacity:1;stroke-miterlimit:10;\" d=\"M 30 212.25 C 30 217.773438 25.523438 222.25 20 222.25 C 14.476563 222.25 10 217.773438 10 212.25 C 10 206.726563 14.476563 202.25 20 202.25 C 25.523438 202.25 30 206.726563 30 212.25 \"/>\n",
       "<path style=\"fill-rule:nonzero;fill:rgb(100%,0%,0%);fill-opacity:1;stroke-width:1;stroke-linecap:butt;stroke-linejoin:miter;stroke:rgb(0%,0%,0%);stroke-opacity:1;stroke-miterlimit:10;\" d=\"M 92.992188 205.019531 C 92.992188 210.542969 88.515625 215.019531 82.992188 215.019531 C 77.472656 215.019531 72.992188 210.542969 72.992188 205.019531 C 72.992188 199.496094 77.472656 195.019531 82.992188 195.019531 C 88.515625 195.019531 92.992188 199.496094 92.992188 205.019531 \"/>\n",
       "<path style=\"fill-rule:nonzero;fill:rgb(100%,0%,0%);fill-opacity:1;stroke-width:1;stroke-linecap:butt;stroke-linejoin:miter;stroke:rgb(0%,0%,0%);stroke-opacity:1;stroke-miterlimit:10;\" d=\"M 72.683594 147.519531 C 72.683594 153.042969 68.203125 157.519531 62.683594 157.519531 C 57.160156 157.519531 52.683594 153.042969 52.683594 147.519531 C 52.683594 141.996094 57.160156 137.519531 62.683594 137.519531 C 68.203125 137.519531 72.683594 141.996094 72.683594 147.519531 \"/>\n",
       "<path style=\"fill-rule:nonzero;fill:rgb(100%,0%,0%);fill-opacity:1;stroke-width:1;stroke-linecap:butt;stroke-linejoin:miter;stroke:rgb(0%,0%,0%);stroke-opacity:1;stroke-miterlimit:10;\" d=\"M 65.613281 88.757813 C 65.613281 94.28125 61.132813 98.757813 55.613281 98.757813 C 50.089844 98.757813 45.613281 94.28125 45.613281 88.757813 C 45.613281 83.234375 50.089844 78.757813 55.613281 78.757813 C 61.132813 78.757813 65.613281 83.234375 65.613281 88.757813 \"/>\n",
       "<path style=\"fill-rule:nonzero;fill:rgb(100%,0%,0%);fill-opacity:1;stroke-width:1;stroke-linecap:butt;stroke-linejoin:miter;stroke:rgb(0%,0%,0%);stroke-opacity:1;stroke-miterlimit:10;\" d=\"M 119.421875 129.0625 C 119.421875 134.585938 114.945313 139.0625 109.421875 139.0625 C 103.898438 139.0625 99.421875 134.585938 99.421875 129.0625 C 99.421875 123.542969 103.898438 119.0625 109.421875 119.0625 C 114.945313 119.0625 119.421875 123.542969 119.421875 129.0625 \"/>\n",
       "<path style=\"fill-rule:nonzero;fill:rgb(100%,0%,0%);fill-opacity:1;stroke-width:1;stroke-linecap:butt;stroke-linejoin:miter;stroke:rgb(0%,0%,0%);stroke-opacity:1;stroke-miterlimit:10;\" d=\"M 180.097656 20 C 180.097656 25.523438 175.621094 30 170.097656 30 C 164.574219 30 160.097656 25.523438 160.097656 20 C 160.097656 14.476563 164.574219 10 170.097656 10 C 175.621094 10 180.097656 14.476563 180.097656 20 \"/>\n",
       "<path style=\"fill-rule:nonzero;fill:rgb(100%,0%,0%);fill-opacity:1;stroke-width:1;stroke-linecap:butt;stroke-linejoin:miter;stroke:rgb(0%,0%,0%);stroke-opacity:1;stroke-miterlimit:10;\" d=\"M 166.464844 77.625 C 166.464844 83.148438 161.988281 87.625 156.464844 87.625 C 150.941406 87.625 146.464844 83.148438 146.464844 77.625 C 146.464844 72.101563 150.941406 67.625 156.464844 67.625 C 161.988281 67.625 166.464844 72.101563 166.464844 77.625 \"/>\n",
       "<path style=\"fill-rule:nonzero;fill:rgb(100%,0%,0%);fill-opacity:1;stroke-width:1;stroke-linecap:butt;stroke-linejoin:miter;stroke:rgb(0%,0%,0%);stroke-opacity:1;stroke-miterlimit:10;\" d=\"M 222.59375 71.507813 C 222.59375 77.03125 218.117188 81.507813 212.59375 81.507813 C 207.070313 81.507813 202.59375 77.03125 202.59375 71.507813 C 202.59375 65.984375 207.070313 61.507813 212.59375 61.507813 C 218.117188 61.507813 222.59375 65.984375 222.59375 71.507813 \"/>\n",
       "<path style=\"fill-rule:nonzero;fill:rgb(100%,0%,0%);fill-opacity:1;stroke-width:1;stroke-linecap:butt;stroke-linejoin:miter;stroke:rgb(0%,0%,0%);stroke-opacity:1;stroke-miterlimit:10;\" d=\"M 225.832031 35.757813 C 225.832031 41.277344 221.355469 45.757813 215.832031 45.757813 C 210.308594 45.757813 205.832031 41.277344 205.832031 35.757813 C 205.832031 30.234375 210.308594 25.757813 215.832031 25.757813 C 221.355469 25.757813 225.832031 30.234375 225.832031 35.757813 \"/>\n",
       "<path style=\"fill-rule:nonzero;fill:rgb(100%,0%,0%);fill-opacity:1;stroke-width:1;stroke-linecap:butt;stroke-linejoin:miter;stroke:rgb(0%,0%,0%);stroke-opacity:1;stroke-miterlimit:10;\" d=\"M 284.355469 61.984375 C 284.355469 67.507813 279.878906 71.984375 274.355469 71.984375 C 268.832031 71.984375 264.355469 67.507813 264.355469 61.984375 C 264.355469 56.460938 268.832031 51.984375 274.355469 51.984375 C 279.878906 51.984375 284.355469 56.460938 284.355469 61.984375 \"/>\n",
       "<path style=\"fill-rule:nonzero;fill:rgb(100%,0%,0%);fill-opacity:1;stroke-width:1;stroke-linecap:butt;stroke-linejoin:miter;stroke:rgb(0%,0%,0%);stroke-opacity:1;stroke-miterlimit:10;\" d=\"M 337.9375 102.347656 C 337.9375 107.871094 333.460938 112.347656 327.9375 112.347656 C 322.414063 112.347656 317.9375 107.871094 317.9375 102.347656 C 317.9375 96.824219 322.414063 92.347656 327.9375 92.347656 C 333.460938 92.347656 337.9375 96.824219 337.9375 102.347656 \"/>\n",
       "<path style=\"fill-rule:nonzero;fill:rgb(100%,0%,0%);fill-opacity:1;stroke-width:1;stroke-linecap:butt;stroke-linejoin:miter;stroke:rgb(0%,0%,0%);stroke-opacity:1;stroke-miterlimit:10;\" d=\"M 388.511719 94.015625 C 388.511719 99.539063 384.035156 104.015625 378.511719 104.015625 C 372.988281 104.015625 368.511719 99.539063 368.511719 94.015625 C 368.511719 88.492188 372.988281 84.015625 378.511719 84.015625 C 384.035156 84.015625 388.511719 88.492188 388.511719 94.015625 \"/>\n",
       "<path style=\"fill-rule:nonzero;fill:rgb(100%,0%,0%);fill-opacity:1;stroke-width:1;stroke-linecap:butt;stroke-linejoin:miter;stroke:rgb(0%,0%,0%);stroke-opacity:1;stroke-miterlimit:10;\" d=\"M 384.371094 156.042969 C 384.371094 161.5625 379.894531 166.042969 374.371094 166.042969 C 368.847656 166.042969 364.371094 161.5625 364.371094 156.042969 C 364.371094 150.519531 368.847656 146.042969 374.371094 146.042969 C 379.894531 146.042969 384.371094 150.519531 384.371094 156.042969 \"/>\n",
       "<path style=\"fill-rule:nonzero;fill:rgb(100%,0%,0%);fill-opacity:1;stroke-width:1;stroke-linecap:butt;stroke-linejoin:miter;stroke:rgb(0%,0%,0%);stroke-opacity:1;stroke-miterlimit:10;\" d=\"M 446.625 132.046875 C 446.625 137.570313 442.148438 142.046875 436.625 142.046875 C 431.101563 142.046875 426.625 137.570313 426.625 132.046875 C 426.625 126.527344 431.101563 122.046875 436.625 122.046875 C 442.148438 122.046875 446.625 126.527344 446.625 132.046875 \"/>\n",
       "<path style=\"fill-rule:nonzero;fill:rgb(100%,0%,0%);fill-opacity:1;stroke-width:1;stroke-linecap:butt;stroke-linejoin:miter;stroke:rgb(0%,0%,0%);stroke-opacity:1;stroke-miterlimit:10;\" d=\"M 387.96875 229.285156 C 387.96875 234.808594 383.488281 239.285156 377.96875 239.285156 C 372.445313 239.285156 367.96875 234.808594 367.96875 229.285156 C 367.96875 223.761719 372.445313 219.285156 377.96875 219.285156 C 383.488281 219.285156 387.96875 223.761719 387.96875 229.285156 \"/>\n",
       "</g>\n",
       "</svg>\n"
      ],
      "text/plain": [
       "<igraph.drawing.Plot at 0x2b5ce3f5668>"
      ]
     },
     "execution_count": 98,
     "metadata": {
      "image/svg+xml": {
       "isolated": true
      }
     },
     "output_type": "execute_result"
    }
   ],
   "source": [
    "ig.plot(G)"
   ]
  },
  {
   "cell_type": "markdown",
   "metadata": {},
   "source": [
    "# K shell decomposition \n",
    "Returns only shell numbers of the graph\n",
    "\n"
   ]
  },
  {
   "cell_type": "code",
   "execution_count": 43,
   "metadata": {},
   "outputs": [],
   "source": [
    "K = G.shell_index()"
   ]
  },
  {
   "cell_type": "code",
   "execution_count": 8,
   "metadata": {},
   "outputs": [],
   "source": [
    "D = G.degree()"
   ]
  },
  {
   "cell_type": "code",
   "execution_count": 55,
   "metadata": {},
   "outputs": [],
   "source": [
    "current = 0\n",
    "traget = 26"
   ]
  },
  {
   "cell_type": "code",
   "execution_count": 37,
   "metadata": {},
   "outputs": [],
   "source": [
    "path = []\n",
    "path.append(current)"
   ]
  },
  {
   "cell_type": "markdown",
   "metadata": {},
   "source": [
    "# Creating a simple path and getting neighbors"
   ]
  },
  {
   "cell_type": "code",
   "execution_count": 17,
   "metadata": {},
   "outputs": [],
   "source": [
    "neig = G.neighbors(current)"
   ]
  },
  {
   "cell_type": "code",
   "execution_count": 18,
   "metadata": {},
   "outputs": [
    {
     "data": {
      "text/plain": [
       "[1]"
      ]
     },
     "execution_count": 18,
     "metadata": {},
     "output_type": "execute_result"
    }
   ],
   "source": [
    "neig"
   ]
  },
  {
   "cell_type": "code",
   "execution_count": 27,
   "metadata": {},
   "outputs": [],
   "source": [
    "path.append(neig[0])"
   ]
  },
  {
   "cell_type": "code",
   "execution_count": 29,
   "metadata": {},
   "outputs": [
    {
     "data": {
      "text/plain": [
       "[0, 1]"
      ]
     },
     "execution_count": 29,
     "metadata": {},
     "output_type": "execute_result"
    }
   ],
   "source": [
    "path"
   ]
  },
  {
   "cell_type": "code",
   "execution_count": 30,
   "metadata": {},
   "outputs": [],
   "source": [
    "current = neig[0]"
   ]
  },
  {
   "cell_type": "code",
   "execution_count": 35,
   "metadata": {},
   "outputs": [],
   "source": [
    "new_neig = G.neighbors(current)\n",
    "req = [x for x in new_neig if x not in path]"
   ]
  },
  {
   "cell_type": "code",
   "execution_count": 56,
   "metadata": {},
   "outputs": [
    {
     "data": {
      "text/plain": [
       "3"
      ]
     },
     "execution_count": 56,
     "metadata": {},
     "output_type": "execute_result"
    }
   ],
   "source": [
    "D[req[0]]"
   ]
  },
  {
   "cell_type": "markdown",
   "metadata": {},
   "source": [
    "# Checking degree from list"
   ]
  },
  {
   "cell_type": "code",
   "execution_count": 84,
   "metadata": {},
   "outputs": [],
   "source": [
    "Test = [1,3,6,8,9,34,14]"
   ]
  },
  {
   "cell_type": "code",
   "execution_count": 85,
   "metadata": {},
   "outputs": [],
   "source": [
    "value = max([D[x] for x in Test])"
   ]
  },
  {
   "cell_type": "code",
   "execution_count": 90,
   "metadata": {},
   "outputs": [
    {
     "data": {
      "text/plain": [
       "[3, 8, 14]"
      ]
     },
     "execution_count": 90,
     "metadata": {},
     "output_type": "execute_result"
    }
   ],
   "source": [
    "rand = [x for x in Test  if D[x] == value]\n",
    "rand"
   ]
  },
  {
   "cell_type": "code",
   "execution_count": 96,
   "metadata": {},
   "outputs": [
    {
     "data": {
      "text/plain": [
       "3"
      ]
     },
     "execution_count": 96,
     "metadata": {},
     "output_type": "execute_result"
    }
   ],
   "source": [
    "import random\n",
    "random.choice(rand)"
   ]
  },
  {
   "cell_type": "code",
   "execution_count": 97,
   "metadata": {},
   "outputs": [
    {
     "data": {
      "text/plain": [
       "2"
      ]
     },
     "execution_count": 97,
     "metadata": {},
     "output_type": "execute_result"
    }
   ],
   "source": [
    "test = [26,27]\n",
    "curr = G.neighbors(25)\n",
    "curr\n",
    "pos = [x for x in curr if x not in test]\n",
    "K[pos[0]]"
   ]
  },
  {
   "cell_type": "markdown",
   "metadata": {},
   "source": [
    "# checking shell numbers"
   ]
  },
  {
   "cell_type": "code",
   "execution_count": 102,
   "metadata": {},
   "outputs": [],
   "source": [
    "val = max([K[x] for x in Test])"
   ]
  },
  {
   "cell_type": "code",
   "execution_count": 103,
   "metadata": {},
   "outputs": [],
   "source": [
    "choice = [x for x in Test if K[x] == val]"
   ]
  },
  {
   "cell_type": "code",
   "execution_count": 111,
   "metadata": {},
   "outputs": [
    {
     "data": {
      "text/plain": [
       "14"
      ]
     },
     "execution_count": 111,
     "metadata": {},
     "output_type": "execute_result"
    }
   ],
   "source": [
    "random.choice(choice)"
   ]
  },
  {
   "cell_type": "markdown",
   "metadata": {},
   "source": [
    "# Inter-shell hill climbing with Intra-shell based approach"
   ]
  },
  {
   "cell_type": "code",
   "execution_count": 109,
   "metadata": {},
   "outputs": [],
   "source": [
    "import igraph as ig\n",
    "import random\n",
    "\n",
    "G = ig.Graph()\n",
    "\n",
    "G.add_vertices(36)\n",
    "\n",
    "G.add_edges([(0,1),(1,3),(2,3),(3,5),(4,5),(5,6),(6,8),(7,8),(8,13),(9,13),(10,13),(11,13),(12,13),(13,14),(14,15),(15,16),(14,17),(17,19),(19,18),(19,22),(19,26),(22,20),(22,21),(22,23),(23,24),(24,25),(23,25),(22,25),(25,27),(26,27),(26,28),(27,29),(26,29),(28,29),(27,28),(28,30),(29,30),(30,31),(31,32),(32,33),(31,33),(33,35),(33,34),(7,35)])"
   ]
  },
  {
   "cell_type": "code",
   "execution_count": 110,
   "metadata": {},
   "outputs": [],
   "source": [
    "K_shell = G.shell_index()"
   ]
  },
  {
   "cell_type": "code",
   "execution_count": 111,
   "metadata": {},
   "outputs": [],
   "source": [
    "Deg = G.degree()"
   ]
  },
  {
   "cell_type": "code",
   "execution_count": 112,
   "metadata": {},
   "outputs": [],
   "source": [
    "current = 0\n",
    "target = 26"
   ]
  },
  {
   "cell_type": "code",
   "execution_count": 113,
   "metadata": {},
   "outputs": [],
   "source": [
    "path = []\n",
    "#path.append(current)"
   ]
  },
  {
   "cell_type": "markdown",
   "metadata": {},
   "source": [
    "### Find neighbors and given algorithm implementation"
   ]
  },
  {
   "cell_type": "code",
   "execution_count": 181,
   "metadata": {},
   "outputs": [],
   "source": [
    "while (current != target):\n",
    "    next_nodes = G.neighbors(current)\n",
    "    req = [x for x in next_nodes if x not in path]\n",
    "    max_shell = max([K_shell[x] for x in req])\n",
    "    current_shell = K_shell[current]\n",
    "    if (max_shell <= current_shell):\n",
    "        max_degree = max([Deg[x] for x in req])\n",
    "        rand = [x for x in req if Deg[x] == max_degree]\n",
    "        current = random.choice(rand)\n",
    "        path.append(current)\n",
    "    else:\n",
    "        rand = [x for x in req if K_shell[x] == max_shell]\n",
    "        current = random.choice(rand)\n",
    "        path.append(current)"
   ]
  },
  {
   "cell_type": "code",
   "execution_count": 182,
   "metadata": {},
   "outputs": [
    {
     "data": {
      "text/plain": [
       "[1, 3, 5, 6, 8, 13, 14, 17, 19, 26]"
      ]
     },
     "execution_count": 182,
     "metadata": {},
     "output_type": "execute_result"
    }
   ],
   "source": [
    "path"
   ]
  },
  {
   "cell_type": "markdown",
   "metadata": {},
   "source": [
    "# plot of G"
   ]
  },
  {
   "cell_type": "code",
   "execution_count": 154,
   "metadata": {},
   "outputs": [
    {
     "data": {
      "text/plain": [
       "[1, 3, 5, 6, 8, 13, 14, 17, 19, 26]"
      ]
     },
     "execution_count": 154,
     "metadata": {},
     "output_type": "execute_result"
    }
   ],
   "source": [
    "path"
   ]
  },
  {
   "cell_type": "code",
   "execution_count": 187,
   "metadata": {},
   "outputs": [],
   "source": [
    "for x in path:\n",
    "    G.vs[x]['color'] = 'blue'"
   ]
  },
  {
   "cell_type": "code",
   "execution_count": 188,
   "metadata": {},
   "outputs": [
    {
     "data": {
      "image/svg+xml": [
       "<?xml version=\"1.0\" encoding=\"UTF-8\"?>\n",
       "<svg xmlns=\"http://www.w3.org/2000/svg\" xmlns:xlink=\"http://www.w3.org/1999/xlink\" width=\"600pt\" height=\"600pt\" viewBox=\"0 0 600 600\" version=\"1.1\">\n",
       "<g id=\"surface128\">\n",
       "<rect x=\"0\" y=\"0\" width=\"600\" height=\"600\" style=\"fill:rgb(100%,100%,100%);fill-opacity:1;stroke:none;\"/>\n",
       "<path style=\"fill:none;stroke-width:1;stroke-linecap:butt;stroke-linejoin:miter;stroke:rgb(26.666667%,26.666667%,26.666667%);stroke-opacity:1;stroke-miterlimit:10;\" d=\"M 580 580 L 545.761719 525.003906 \"/>\n",
       "<path style=\"fill:none;stroke-width:1;stroke-linecap:butt;stroke-linejoin:miter;stroke:rgb(26.666667%,26.666667%,26.666667%);stroke-opacity:1;stroke-miterlimit:10;\" d=\"M 545.761719 525.003906 L 517.125 459.917969 \"/>\n",
       "<path style=\"fill:none;stroke-width:1;stroke-linecap:butt;stroke-linejoin:miter;stroke:rgb(26.666667%,26.666667%,26.666667%);stroke-opacity:1;stroke-miterlimit:10;\" d=\"M 575.226563 431.496094 L 517.125 459.917969 \"/>\n",
       "<path style=\"fill:none;stroke-width:1;stroke-linecap:butt;stroke-linejoin:miter;stroke:rgb(26.666667%,26.666667%,26.666667%);stroke-opacity:1;stroke-miterlimit:10;\" d=\"M 517.125 459.917969 L 453.828125 442.390625 \"/>\n",
       "<path style=\"fill:none;stroke-width:1;stroke-linecap:butt;stroke-linejoin:miter;stroke:rgb(26.666667%,26.666667%,26.666667%);stroke-opacity:1;stroke-miterlimit:10;\" d=\"M 438.652344 514.765625 L 453.828125 442.390625 \"/>\n",
       "<path style=\"fill:none;stroke-width:1;stroke-linecap:butt;stroke-linejoin:miter;stroke:rgb(26.666667%,26.666667%,26.666667%);stroke-opacity:1;stroke-miterlimit:10;\" d=\"M 453.828125 442.390625 L 408.351563 388.816406 \"/>\n",
       "<path style=\"fill:none;stroke-width:1;stroke-linecap:butt;stroke-linejoin:miter;stroke:rgb(26.666667%,26.666667%,26.666667%);stroke-opacity:1;stroke-miterlimit:10;\" d=\"M 408.351563 388.816406 L 355.335938 340.140625 \"/>\n",
       "<path style=\"fill:none;stroke-width:1;stroke-linecap:butt;stroke-linejoin:miter;stroke:rgb(26.666667%,26.666667%,26.666667%);stroke-opacity:1;stroke-miterlimit:10;\" d=\"M 388.859375 269.554688 L 355.335938 340.140625 \"/>\n",
       "<path style=\"fill:none;stroke-width:1;stroke-linecap:butt;stroke-linejoin:miter;stroke:rgb(26.666667%,26.666667%,26.666667%);stroke-opacity:1;stroke-miterlimit:10;\" d=\"M 355.335938 340.140625 L 278.460938 362.398438 \"/>\n",
       "<path style=\"fill:none;stroke-width:1;stroke-linecap:butt;stroke-linejoin:miter;stroke:rgb(26.666667%,26.666667%,26.666667%);stroke-opacity:1;stroke-miterlimit:10;\" d=\"M 295.289063 320.035156 L 278.460938 362.398438 \"/>\n",
       "<path style=\"fill:none;stroke-width:1;stroke-linecap:butt;stroke-linejoin:miter;stroke:rgb(26.666667%,26.666667%,26.666667%);stroke-opacity:1;stroke-miterlimit:10;\" d=\"M 303.683594 417.132813 L 278.460938 362.398438 \"/>\n",
       "<path style=\"fill:none;stroke-width:1;stroke-linecap:butt;stroke-linejoin:miter;stroke:rgb(26.666667%,26.666667%,26.666667%);stroke-opacity:1;stroke-miterlimit:10;\" d=\"M 240.351563 414.136719 L 278.460938 362.398438 \"/>\n",
       "<path style=\"fill:none;stroke-width:1;stroke-linecap:butt;stroke-linejoin:miter;stroke:rgb(26.666667%,26.666667%,26.666667%);stroke-opacity:1;stroke-miterlimit:10;\" d=\"M 268.886719 438.523438 L 278.460938 362.398438 \"/>\n",
       "<path style=\"fill:none;stroke-width:1;stroke-linecap:butt;stroke-linejoin:miter;stroke:rgb(26.666667%,26.666667%,26.666667%);stroke-opacity:1;stroke-miterlimit:10;\" d=\"M 278.460938 362.398438 L 211.066406 328.566406 \"/>\n",
       "<path style=\"fill:none;stroke-width:1;stroke-linecap:butt;stroke-linejoin:miter;stroke:rgb(26.666667%,26.666667%,26.666667%);stroke-opacity:1;stroke-miterlimit:10;\" d=\"M 211.066406 328.566406 L 159.769531 384.011719 \"/>\n",
       "<path style=\"fill:none;stroke-width:1;stroke-linecap:butt;stroke-linejoin:miter;stroke:rgb(26.666667%,26.666667%,26.666667%);stroke-opacity:1;stroke-miterlimit:10;\" d=\"M 159.769531 384.011719 L 117.992188 440.40625 \"/>\n",
       "<path style=\"fill:none;stroke-width:1;stroke-linecap:butt;stroke-linejoin:miter;stroke:rgb(26.666667%,26.666667%,26.666667%);stroke-opacity:1;stroke-miterlimit:10;\" d=\"M 211.066406 328.566406 L 179.550781 260.050781 \"/>\n",
       "<path style=\"fill:none;stroke-width:1;stroke-linecap:butt;stroke-linejoin:miter;stroke:rgb(26.666667%,26.666667%,26.666667%);stroke-opacity:1;stroke-miterlimit:10;\" d=\"M 179.550781 260.050781 L 148.464844 188.878906 \"/>\n",
       "<path style=\"fill:none;stroke-width:1;stroke-linecap:butt;stroke-linejoin:miter;stroke:rgb(26.666667%,26.666667%,26.666667%);stroke-opacity:1;stroke-miterlimit:10;\" d=\"M 103.277344 232.90625 L 148.464844 188.878906 \"/>\n",
       "<path style=\"fill:none;stroke-width:1;stroke-linecap:butt;stroke-linejoin:miter;stroke:rgb(26.666667%,26.666667%,26.666667%);stroke-opacity:1;stroke-miterlimit:10;\" d=\"M 148.464844 188.878906 L 85.539063 151.0625 \"/>\n",
       "<path style=\"fill:none;stroke-width:1;stroke-linecap:butt;stroke-linejoin:miter;stroke:rgb(26.666667%,26.666667%,26.666667%);stroke-opacity:1;stroke-miterlimit:10;\" d=\"M 148.464844 188.878906 L 186.554688 124.203125 \"/>\n",
       "<path style=\"fill:none;stroke-width:1;stroke-linecap:butt;stroke-linejoin:miter;stroke:rgb(26.666667%,26.666667%,26.666667%);stroke-opacity:1;stroke-miterlimit:10;\" d=\"M 30.5 194.527344 L 85.539063 151.0625 \"/>\n",
       "<path style=\"fill:none;stroke-width:1;stroke-linecap:butt;stroke-linejoin:miter;stroke:rgb(26.666667%,26.666667%,26.666667%);stroke-opacity:1;stroke-miterlimit:10;\" d=\"M 20 145.941406 L 85.539063 151.0625 \"/>\n",
       "<path style=\"fill:none;stroke-width:1;stroke-linecap:butt;stroke-linejoin:miter;stroke:rgb(26.666667%,26.666667%,26.666667%);stroke-opacity:1;stroke-miterlimit:10;\" d=\"M 85.539063 151.0625 L 63.023438 85.734375 \"/>\n",
       "<path style=\"fill:none;stroke-width:1;stroke-linecap:butt;stroke-linejoin:miter;stroke:rgb(26.666667%,26.666667%,26.666667%);stroke-opacity:1;stroke-miterlimit:10;\" d=\"M 63.023438 85.734375 L 69.761719 20 \"/>\n",
       "<path style=\"fill:none;stroke-width:1;stroke-linecap:butt;stroke-linejoin:miter;stroke:rgb(26.666667%,26.666667%,26.666667%);stroke-opacity:1;stroke-miterlimit:10;\" d=\"M 69.761719 20 L 108.566406 77.199219 \"/>\n",
       "<path style=\"fill:none;stroke-width:1;stroke-linecap:butt;stroke-linejoin:miter;stroke:rgb(26.666667%,26.666667%,26.666667%);stroke-opacity:1;stroke-miterlimit:10;\" d=\"M 63.023438 85.734375 L 108.566406 77.199219 \"/>\n",
       "<path style=\"fill:none;stroke-width:1;stroke-linecap:butt;stroke-linejoin:miter;stroke:rgb(26.666667%,26.666667%,26.666667%);stroke-opacity:1;stroke-miterlimit:10;\" d=\"M 85.539063 151.0625 L 108.566406 77.199219 \"/>\n",
       "<path style=\"fill:none;stroke-width:1;stroke-linecap:butt;stroke-linejoin:miter;stroke:rgb(26.666667%,26.666667%,26.666667%);stroke-opacity:1;stroke-miterlimit:10;\" d=\"M 108.566406 77.199219 L 166.839844 63.847656 \"/>\n",
       "<path style=\"fill:none;stroke-width:1;stroke-linecap:butt;stroke-linejoin:miter;stroke:rgb(26.666667%,26.666667%,26.666667%);stroke-opacity:1;stroke-miterlimit:10;\" d=\"M 186.554688 124.203125 L 166.839844 63.847656 \"/>\n",
       "<path style=\"fill:none;stroke-width:1;stroke-linecap:butt;stroke-linejoin:miter;stroke:rgb(26.666667%,26.666667%,26.666667%);stroke-opacity:1;stroke-miterlimit:10;\" d=\"M 186.554688 124.203125 L 216.449219 47.988281 \"/>\n",
       "<path style=\"fill:none;stroke-width:1;stroke-linecap:butt;stroke-linejoin:miter;stroke:rgb(26.666667%,26.666667%,26.666667%);stroke-opacity:1;stroke-miterlimit:10;\" d=\"M 166.839844 63.847656 L 226.882813 83.28125 \"/>\n",
       "<path style=\"fill:none;stroke-width:1;stroke-linecap:butt;stroke-linejoin:miter;stroke:rgb(26.666667%,26.666667%,26.666667%);stroke-opacity:1;stroke-miterlimit:10;\" d=\"M 186.554688 124.203125 L 226.882813 83.28125 \"/>\n",
       "<path style=\"fill:none;stroke-width:1;stroke-linecap:butt;stroke-linejoin:miter;stroke:rgb(26.666667%,26.666667%,26.666667%);stroke-opacity:1;stroke-miterlimit:10;\" d=\"M 216.449219 47.988281 L 226.882813 83.28125 \"/>\n",
       "<path style=\"fill:none;stroke-width:1;stroke-linecap:butt;stroke-linejoin:miter;stroke:rgb(26.666667%,26.666667%,26.666667%);stroke-opacity:1;stroke-miterlimit:10;\" d=\"M 166.839844 63.847656 L 216.449219 47.988281 \"/>\n",
       "<path style=\"fill:none;stroke-width:1;stroke-linecap:butt;stroke-linejoin:miter;stroke:rgb(26.666667%,26.666667%,26.666667%);stroke-opacity:1;stroke-miterlimit:10;\" d=\"M 216.449219 47.988281 L 279.914063 45.726563 \"/>\n",
       "<path style=\"fill:none;stroke-width:1;stroke-linecap:butt;stroke-linejoin:miter;stroke:rgb(26.666667%,26.666667%,26.666667%);stroke-opacity:1;stroke-miterlimit:10;\" d=\"M 226.882813 83.28125 L 279.914063 45.726563 \"/>\n",
       "<path style=\"fill:none;stroke-width:1;stroke-linecap:butt;stroke-linejoin:miter;stroke:rgb(26.666667%,26.666667%,26.666667%);stroke-opacity:1;stroke-miterlimit:10;\" d=\"M 279.914063 45.726563 L 341.660156 69.921875 \"/>\n",
       "<path style=\"fill:none;stroke-width:1;stroke-linecap:butt;stroke-linejoin:miter;stroke:rgb(26.666667%,26.666667%,26.666667%);stroke-opacity:1;stroke-miterlimit:10;\" d=\"M 341.660156 69.921875 L 390.898438 52.4375 \"/>\n",
       "<path style=\"fill:none;stroke-width:1;stroke-linecap:butt;stroke-linejoin:miter;stroke:rgb(26.666667%,26.666667%,26.666667%);stroke-opacity:1;stroke-miterlimit:10;\" d=\"M 390.898438 52.4375 L 394.511719 118.828125 \"/>\n",
       "<path style=\"fill:none;stroke-width:1;stroke-linecap:butt;stroke-linejoin:miter;stroke:rgb(26.666667%,26.666667%,26.666667%);stroke-opacity:1;stroke-miterlimit:10;\" d=\"M 341.660156 69.921875 L 394.511719 118.828125 \"/>\n",
       "<path style=\"fill:none;stroke-width:1;stroke-linecap:butt;stroke-linejoin:miter;stroke:rgb(26.666667%,26.666667%,26.666667%);stroke-opacity:1;stroke-miterlimit:10;\" d=\"M 394.511719 118.828125 L 405.402344 195.167969 \"/>\n",
       "<path style=\"fill:none;stroke-width:1;stroke-linecap:butt;stroke-linejoin:miter;stroke:rgb(26.666667%,26.666667%,26.666667%);stroke-opacity:1;stroke-miterlimit:10;\" d=\"M 394.511719 118.828125 L 454.75 88.34375 \"/>\n",
       "<path style=\"fill:none;stroke-width:1;stroke-linecap:butt;stroke-linejoin:miter;stroke:rgb(26.666667%,26.666667%,26.666667%);stroke-opacity:1;stroke-miterlimit:10;\" d=\"M 388.859375 269.554688 L 405.402344 195.167969 \"/>\n",
       "<path style=\"fill-rule:nonzero;fill:rgb(0%,0%,100%);fill-opacity:1;stroke-width:1;stroke-linecap:butt;stroke-linejoin:miter;stroke:rgb(0%,0%,0%);stroke-opacity:1;stroke-miterlimit:10;\" d=\"M 590 580 C 590 585.523438 585.523438 590 580 590 C 574.476563 590 570 585.523438 570 580 C 570 574.476563 574.476563 570 580 570 C 585.523438 570 590 574.476563 590 580 \"/>\n",
       "<path style=\"fill-rule:nonzero;fill:rgb(0%,0%,100%);fill-opacity:1;stroke-width:1;stroke-linecap:butt;stroke-linejoin:miter;stroke:rgb(0%,0%,0%);stroke-opacity:1;stroke-miterlimit:10;\" d=\"M 555.761719 525.003906 C 555.761719 530.527344 551.285156 535.003906 545.761719 535.003906 C 540.242188 535.003906 535.761719 530.527344 535.761719 525.003906 C 535.761719 519.480469 540.242188 515.003906 545.761719 515.003906 C 551.285156 515.003906 555.761719 519.480469 555.761719 525.003906 \"/>\n",
       "<path style=\"fill-rule:nonzero;fill:rgb(100%,0%,0%);fill-opacity:1;stroke-width:1;stroke-linecap:butt;stroke-linejoin:miter;stroke:rgb(0%,0%,0%);stroke-opacity:1;stroke-miterlimit:10;\" d=\"M 585.226563 431.496094 C 585.226563 437.019531 580.75 441.496094 575.226563 441.496094 C 569.703125 441.496094 565.226563 437.019531 565.226563 431.496094 C 565.226563 425.976563 569.703125 421.496094 575.226563 421.496094 C 580.75 421.496094 585.226563 425.976563 585.226563 431.496094 \"/>\n",
       "<path style=\"fill-rule:nonzero;fill:rgb(0%,0%,100%);fill-opacity:1;stroke-width:1;stroke-linecap:butt;stroke-linejoin:miter;stroke:rgb(0%,0%,0%);stroke-opacity:1;stroke-miterlimit:10;\" d=\"M 527.125 459.917969 C 527.125 465.441406 522.648438 469.917969 517.125 469.917969 C 511.601563 469.917969 507.125 465.441406 507.125 459.917969 C 507.125 454.394531 511.601563 449.917969 517.125 449.917969 C 522.648438 449.917969 527.125 454.394531 527.125 459.917969 \"/>\n",
       "<path style=\"fill-rule:nonzero;fill:rgb(100%,0%,0%);fill-opacity:1;stroke-width:1;stroke-linecap:butt;stroke-linejoin:miter;stroke:rgb(0%,0%,0%);stroke-opacity:1;stroke-miterlimit:10;\" d=\"M 448.652344 514.765625 C 448.652344 520.289063 444.175781 524.765625 438.652344 524.765625 C 433.128906 524.765625 428.652344 520.289063 428.652344 514.765625 C 428.652344 509.246094 433.128906 504.765625 438.652344 504.765625 C 444.175781 504.765625 448.652344 509.246094 448.652344 514.765625 \"/>\n",
       "<path style=\"fill-rule:nonzero;fill:rgb(0%,0%,100%);fill-opacity:1;stroke-width:1;stroke-linecap:butt;stroke-linejoin:miter;stroke:rgb(0%,0%,0%);stroke-opacity:1;stroke-miterlimit:10;\" d=\"M 463.828125 442.390625 C 463.828125 447.914063 459.351563 452.390625 453.828125 452.390625 C 448.308594 452.390625 443.828125 447.914063 443.828125 442.390625 C 443.828125 436.867188 448.308594 432.390625 453.828125 432.390625 C 459.351563 432.390625 463.828125 436.867188 463.828125 442.390625 \"/>\n",
       "<path style=\"fill-rule:nonzero;fill:rgb(0%,0%,100%);fill-opacity:1;stroke-width:1;stroke-linecap:butt;stroke-linejoin:miter;stroke:rgb(0%,0%,0%);stroke-opacity:1;stroke-miterlimit:10;\" d=\"M 418.351563 388.816406 C 418.351563 394.339844 413.875 398.816406 408.351563 398.816406 C 402.828125 398.816406 398.351563 394.339844 398.351563 388.816406 C 398.351563 383.296875 402.828125 378.816406 408.351563 378.816406 C 413.875 378.816406 418.351563 383.296875 418.351563 388.816406 \"/>\n",
       "<path style=\"fill-rule:nonzero;fill:rgb(100%,0%,0%);fill-opacity:1;stroke-width:1;stroke-linecap:butt;stroke-linejoin:miter;stroke:rgb(0%,0%,0%);stroke-opacity:1;stroke-miterlimit:10;\" d=\"M 398.859375 269.554688 C 398.859375 275.078125 394.382813 279.554688 388.859375 279.554688 C 383.335938 279.554688 378.859375 275.078125 378.859375 269.554688 C 378.859375 264.03125 383.335938 259.554688 388.859375 259.554688 C 394.382813 259.554688 398.859375 264.03125 398.859375 269.554688 \"/>\n",
       "<path style=\"fill-rule:nonzero;fill:rgb(0%,0%,100%);fill-opacity:1;stroke-width:1;stroke-linecap:butt;stroke-linejoin:miter;stroke:rgb(0%,0%,0%);stroke-opacity:1;stroke-miterlimit:10;\" d=\"M 365.335938 340.140625 C 365.335938 345.664063 360.859375 350.140625 355.335938 350.140625 C 349.8125 350.140625 345.335938 345.664063 345.335938 340.140625 C 345.335938 334.621094 349.8125 330.140625 355.335938 330.140625 C 360.859375 330.140625 365.335938 334.621094 365.335938 340.140625 \"/>\n",
       "<path style=\"fill-rule:nonzero;fill:rgb(100%,0%,0%);fill-opacity:1;stroke-width:1;stroke-linecap:butt;stroke-linejoin:miter;stroke:rgb(0%,0%,0%);stroke-opacity:1;stroke-miterlimit:10;\" d=\"M 305.289063 320.035156 C 305.289063 325.558594 300.8125 330.035156 295.289063 330.035156 C 289.765625 330.035156 285.289063 325.558594 285.289063 320.035156 C 285.289063 314.511719 289.765625 310.035156 295.289063 310.035156 C 300.8125 310.035156 305.289063 314.511719 305.289063 320.035156 \"/>\n",
       "<path style=\"fill-rule:nonzero;fill:rgb(100%,0%,0%);fill-opacity:1;stroke-width:1;stroke-linecap:butt;stroke-linejoin:miter;stroke:rgb(0%,0%,0%);stroke-opacity:1;stroke-miterlimit:10;\" d=\"M 313.683594 417.132813 C 313.683594 422.65625 309.207031 427.132813 303.683594 427.132813 C 298.160156 427.132813 293.683594 422.65625 293.683594 417.132813 C 293.683594 411.613281 298.160156 407.132813 303.683594 407.132813 C 309.207031 407.132813 313.683594 411.613281 313.683594 417.132813 \"/>\n",
       "<path style=\"fill-rule:nonzero;fill:rgb(100%,0%,0%);fill-opacity:1;stroke-width:1;stroke-linecap:butt;stroke-linejoin:miter;stroke:rgb(0%,0%,0%);stroke-opacity:1;stroke-miterlimit:10;\" d=\"M 250.351563 414.136719 C 250.351563 419.660156 245.875 424.136719 240.351563 424.136719 C 234.828125 424.136719 230.351563 419.660156 230.351563 414.136719 C 230.351563 408.617188 234.828125 404.136719 240.351563 404.136719 C 245.875 404.136719 250.351563 408.617188 250.351563 414.136719 \"/>\n",
       "<path style=\"fill-rule:nonzero;fill:rgb(100%,0%,0%);fill-opacity:1;stroke-width:1;stroke-linecap:butt;stroke-linejoin:miter;stroke:rgb(0%,0%,0%);stroke-opacity:1;stroke-miterlimit:10;\" d=\"M 278.886719 438.523438 C 278.886719 444.046875 274.410156 448.523438 268.886719 448.523438 C 263.363281 448.523438 258.886719 444.046875 258.886719 438.523438 C 258.886719 433 263.363281 428.523438 268.886719 428.523438 C 274.410156 428.523438 278.886719 433 278.886719 438.523438 \"/>\n",
       "<path style=\"fill-rule:nonzero;fill:rgb(0%,0%,100%);fill-opacity:1;stroke-width:1;stroke-linecap:butt;stroke-linejoin:miter;stroke:rgb(0%,0%,0%);stroke-opacity:1;stroke-miterlimit:10;\" d=\"M 288.460938 362.398438 C 288.460938 367.921875 283.984375 372.398438 278.460938 372.398438 C 272.9375 372.398438 268.460938 367.921875 268.460938 362.398438 C 268.460938 356.875 272.9375 352.398438 278.460938 352.398438 C 283.984375 352.398438 288.460938 356.875 288.460938 362.398438 \"/>\n",
       "<path style=\"fill-rule:nonzero;fill:rgb(0%,0%,100%);fill-opacity:1;stroke-width:1;stroke-linecap:butt;stroke-linejoin:miter;stroke:rgb(0%,0%,0%);stroke-opacity:1;stroke-miterlimit:10;\" d=\"M 221.066406 328.566406 C 221.066406 334.089844 216.589844 338.566406 211.066406 338.566406 C 205.542969 338.566406 201.066406 334.089844 201.066406 328.566406 C 201.066406 323.042969 205.542969 318.566406 211.066406 318.566406 C 216.589844 318.566406 221.066406 323.042969 221.066406 328.566406 \"/>\n",
       "<path style=\"fill-rule:nonzero;fill:rgb(100%,0%,0%);fill-opacity:1;stroke-width:1;stroke-linecap:butt;stroke-linejoin:miter;stroke:rgb(0%,0%,0%);stroke-opacity:1;stroke-miterlimit:10;\" d=\"M 169.769531 384.011719 C 169.769531 389.535156 165.292969 394.011719 159.769531 394.011719 C 154.246094 394.011719 149.769531 389.535156 149.769531 384.011719 C 149.769531 378.488281 154.246094 374.011719 159.769531 374.011719 C 165.292969 374.011719 169.769531 378.488281 169.769531 384.011719 \"/>\n",
       "<path style=\"fill-rule:nonzero;fill:rgb(100%,0%,0%);fill-opacity:1;stroke-width:1;stroke-linecap:butt;stroke-linejoin:miter;stroke:rgb(0%,0%,0%);stroke-opacity:1;stroke-miterlimit:10;\" d=\"M 127.992188 440.40625 C 127.992188 445.929688 123.515625 450.40625 117.992188 450.40625 C 112.472656 450.40625 107.992188 445.929688 107.992188 440.40625 C 107.992188 434.882813 112.472656 430.40625 117.992188 430.40625 C 123.515625 430.40625 127.992188 434.882813 127.992188 440.40625 \"/>\n",
       "<path style=\"fill-rule:nonzero;fill:rgb(0%,0%,100%);fill-opacity:1;stroke-width:1;stroke-linecap:butt;stroke-linejoin:miter;stroke:rgb(0%,0%,0%);stroke-opacity:1;stroke-miterlimit:10;\" d=\"M 189.550781 260.050781 C 189.550781 265.574219 185.074219 270.050781 179.550781 270.050781 C 174.027344 270.050781 169.550781 265.574219 169.550781 260.050781 C 169.550781 254.527344 174.027344 250.050781 179.550781 250.050781 C 185.074219 250.050781 189.550781 254.527344 189.550781 260.050781 \"/>\n",
       "<path style=\"fill-rule:nonzero;fill:rgb(100%,0%,0%);fill-opacity:1;stroke-width:1;stroke-linecap:butt;stroke-linejoin:miter;stroke:rgb(0%,0%,0%);stroke-opacity:1;stroke-miterlimit:10;\" d=\"M 113.277344 232.90625 C 113.277344 238.425781 108.800781 242.90625 103.277344 242.90625 C 97.753906 242.90625 93.277344 238.425781 93.277344 232.90625 C 93.277344 227.382813 97.753906 222.90625 103.277344 222.90625 C 108.800781 222.90625 113.277344 227.382813 113.277344 232.90625 \"/>\n",
       "<path style=\"fill-rule:nonzero;fill:rgb(0%,0%,100%);fill-opacity:1;stroke-width:1;stroke-linecap:butt;stroke-linejoin:miter;stroke:rgb(0%,0%,0%);stroke-opacity:1;stroke-miterlimit:10;\" d=\"M 158.464844 188.878906 C 158.464844 194.398438 153.988281 198.878906 148.464844 198.878906 C 142.941406 198.878906 138.464844 194.398438 138.464844 188.878906 C 138.464844 183.355469 142.941406 178.878906 148.464844 178.878906 C 153.988281 178.878906 158.464844 183.355469 158.464844 188.878906 \"/>\n",
       "<path style=\"fill-rule:nonzero;fill:rgb(100%,0%,0%);fill-opacity:1;stroke-width:1;stroke-linecap:butt;stroke-linejoin:miter;stroke:rgb(0%,0%,0%);stroke-opacity:1;stroke-miterlimit:10;\" d=\"M 40.5 194.527344 C 40.5 200.050781 36.023438 204.527344 30.5 204.527344 C 24.980469 204.527344 20.5 200.050781 20.5 194.527344 C 20.5 189.003906 24.980469 184.527344 30.5 184.527344 C 36.023438 184.527344 40.5 189.003906 40.5 194.527344 \"/>\n",
       "<path style=\"fill-rule:nonzero;fill:rgb(100%,0%,0%);fill-opacity:1;stroke-width:1;stroke-linecap:butt;stroke-linejoin:miter;stroke:rgb(0%,0%,0%);stroke-opacity:1;stroke-miterlimit:10;\" d=\"M 30 145.941406 C 30 151.464844 25.523438 155.941406 20 155.941406 C 14.476563 155.941406 10 151.464844 10 145.941406 C 10 140.417969 14.476563 135.941406 20 135.941406 C 25.523438 135.941406 30 140.417969 30 145.941406 \"/>\n",
       "<path style=\"fill-rule:nonzero;fill:rgb(100%,0%,0%);fill-opacity:1;stroke-width:1;stroke-linecap:butt;stroke-linejoin:miter;stroke:rgb(0%,0%,0%);stroke-opacity:1;stroke-miterlimit:10;\" d=\"M 95.539063 151.0625 C 95.539063 156.582031 91.0625 161.0625 85.539063 161.0625 C 80.019531 161.0625 75.539063 156.582031 75.539063 151.0625 C 75.539063 145.539063 80.019531 141.0625 85.539063 141.0625 C 91.0625 141.0625 95.539063 145.539063 95.539063 151.0625 \"/>\n",
       "<path style=\"fill-rule:nonzero;fill:rgb(100%,0%,0%);fill-opacity:1;stroke-width:1;stroke-linecap:butt;stroke-linejoin:miter;stroke:rgb(0%,0%,0%);stroke-opacity:1;stroke-miterlimit:10;\" d=\"M 73.023438 85.734375 C 73.023438 91.257813 68.546875 95.734375 63.023438 95.734375 C 57.5 95.734375 53.023438 91.257813 53.023438 85.734375 C 53.023438 80.210938 57.5 75.734375 63.023438 75.734375 C 68.546875 75.734375 73.023438 80.210938 73.023438 85.734375 \"/>\n",
       "<path style=\"fill-rule:nonzero;fill:rgb(100%,0%,0%);fill-opacity:1;stroke-width:1;stroke-linecap:butt;stroke-linejoin:miter;stroke:rgb(0%,0%,0%);stroke-opacity:1;stroke-miterlimit:10;\" d=\"M 79.761719 20 C 79.761719 25.523438 75.285156 30 69.761719 30 C 64.242188 30 59.761719 25.523438 59.761719 20 C 59.761719 14.476563 64.242188 10 69.761719 10 C 75.285156 10 79.761719 14.476563 79.761719 20 \"/>\n",
       "<path style=\"fill-rule:nonzero;fill:rgb(100%,0%,0%);fill-opacity:1;stroke-width:1;stroke-linecap:butt;stroke-linejoin:miter;stroke:rgb(0%,0%,0%);stroke-opacity:1;stroke-miterlimit:10;\" d=\"M 118.566406 77.199219 C 118.566406 82.722656 114.089844 87.199219 108.566406 87.199219 C 103.042969 87.199219 98.566406 82.722656 98.566406 77.199219 C 98.566406 71.679688 103.042969 67.199219 108.566406 67.199219 C 114.089844 67.199219 118.566406 71.679688 118.566406 77.199219 \"/>\n",
       "<path style=\"fill-rule:nonzero;fill:rgb(0%,0%,100%);fill-opacity:1;stroke-width:1;stroke-linecap:butt;stroke-linejoin:miter;stroke:rgb(0%,0%,0%);stroke-opacity:1;stroke-miterlimit:10;\" d=\"M 196.554688 124.203125 C 196.554688 129.726563 192.078125 134.203125 186.554688 134.203125 C 181.03125 134.203125 176.554688 129.726563 176.554688 124.203125 C 176.554688 118.679688 181.03125 114.203125 186.554688 114.203125 C 192.078125 114.203125 196.554688 118.679688 196.554688 124.203125 \"/>\n",
       "<path style=\"fill-rule:nonzero;fill:rgb(100%,0%,0%);fill-opacity:1;stroke-width:1;stroke-linecap:butt;stroke-linejoin:miter;stroke:rgb(0%,0%,0%);stroke-opacity:1;stroke-miterlimit:10;\" d=\"M 176.839844 63.847656 C 176.839844 69.367188 172.359375 73.847656 166.839844 73.847656 C 161.316406 73.847656 156.839844 69.367188 156.839844 63.847656 C 156.839844 58.324219 161.316406 53.847656 166.839844 53.847656 C 172.359375 53.847656 176.839844 58.324219 176.839844 63.847656 \"/>\n",
       "<path style=\"fill-rule:nonzero;fill:rgb(100%,0%,0%);fill-opacity:1;stroke-width:1;stroke-linecap:butt;stroke-linejoin:miter;stroke:rgb(0%,0%,0%);stroke-opacity:1;stroke-miterlimit:10;\" d=\"M 226.449219 47.988281 C 226.449219 53.511719 221.972656 57.988281 216.449219 57.988281 C 210.925781 57.988281 206.449219 53.511719 206.449219 47.988281 C 206.449219 42.464844 210.925781 37.988281 216.449219 37.988281 C 221.972656 37.988281 226.449219 42.464844 226.449219 47.988281 \"/>\n",
       "<path style=\"fill-rule:nonzero;fill:rgb(100%,0%,0%);fill-opacity:1;stroke-width:1;stroke-linecap:butt;stroke-linejoin:miter;stroke:rgb(0%,0%,0%);stroke-opacity:1;stroke-miterlimit:10;\" d=\"M 236.882813 83.28125 C 236.882813 88.804688 232.40625 93.28125 226.882813 93.28125 C 221.359375 93.28125 216.882813 88.804688 216.882813 83.28125 C 216.882813 77.757813 221.359375 73.28125 226.882813 73.28125 C 232.40625 73.28125 236.882813 77.757813 236.882813 83.28125 \"/>\n",
       "<path style=\"fill-rule:nonzero;fill:rgb(100%,0%,0%);fill-opacity:1;stroke-width:1;stroke-linecap:butt;stroke-linejoin:miter;stroke:rgb(0%,0%,0%);stroke-opacity:1;stroke-miterlimit:10;\" d=\"M 289.914063 45.726563 C 289.914063 51.25 285.4375 55.726563 279.914063 55.726563 C 274.390625 55.726563 269.914063 51.25 269.914063 45.726563 C 269.914063 40.203125 274.390625 35.726563 279.914063 35.726563 C 285.4375 35.726563 289.914063 40.203125 289.914063 45.726563 \"/>\n",
       "<path style=\"fill-rule:nonzero;fill:rgb(100%,0%,0%);fill-opacity:1;stroke-width:1;stroke-linecap:butt;stroke-linejoin:miter;stroke:rgb(0%,0%,0%);stroke-opacity:1;stroke-miterlimit:10;\" d=\"M 351.660156 69.921875 C 351.660156 75.445313 347.183594 79.921875 341.660156 79.921875 C 336.136719 79.921875 331.660156 75.445313 331.660156 69.921875 C 331.660156 64.398438 336.136719 59.921875 341.660156 59.921875 C 347.183594 59.921875 351.660156 64.398438 351.660156 69.921875 \"/>\n",
       "<path style=\"fill-rule:nonzero;fill:rgb(100%,0%,0%);fill-opacity:1;stroke-width:1;stroke-linecap:butt;stroke-linejoin:miter;stroke:rgb(0%,0%,0%);stroke-opacity:1;stroke-miterlimit:10;\" d=\"M 400.898438 52.4375 C 400.898438 57.957031 396.421875 62.4375 390.898438 62.4375 C 385.375 62.4375 380.898438 57.957031 380.898438 52.4375 C 380.898438 46.914063 385.375 42.4375 390.898438 42.4375 C 396.421875 42.4375 400.898438 46.914063 400.898438 52.4375 \"/>\n",
       "<path style=\"fill-rule:nonzero;fill:rgb(100%,0%,0%);fill-opacity:1;stroke-width:1;stroke-linecap:butt;stroke-linejoin:miter;stroke:rgb(0%,0%,0%);stroke-opacity:1;stroke-miterlimit:10;\" d=\"M 404.511719 118.828125 C 404.511719 124.351563 400.035156 128.828125 394.511719 128.828125 C 388.988281 128.828125 384.511719 124.351563 384.511719 118.828125 C 384.511719 113.304688 388.988281 108.828125 394.511719 108.828125 C 400.035156 108.828125 404.511719 113.304688 404.511719 118.828125 \"/>\n",
       "<path style=\"fill-rule:nonzero;fill:rgb(100%,0%,0%);fill-opacity:1;stroke-width:1;stroke-linecap:butt;stroke-linejoin:miter;stroke:rgb(0%,0%,0%);stroke-opacity:1;stroke-miterlimit:10;\" d=\"M 464.75 88.34375 C 464.75 93.867188 460.273438 98.34375 454.75 98.34375 C 449.226563 98.34375 444.75 93.867188 444.75 88.34375 C 444.75 82.820313 449.226563 78.34375 454.75 78.34375 C 460.273438 78.34375 464.75 82.820313 464.75 88.34375 \"/>\n",
       "<path style=\"fill-rule:nonzero;fill:rgb(100%,0%,0%);fill-opacity:1;stroke-width:1;stroke-linecap:butt;stroke-linejoin:miter;stroke:rgb(0%,0%,0%);stroke-opacity:1;stroke-miterlimit:10;\" d=\"M 415.402344 195.167969 C 415.402344 200.691406 410.925781 205.167969 405.402344 205.167969 C 399.878906 205.167969 395.402344 200.691406 395.402344 195.167969 C 395.402344 189.644531 399.878906 185.167969 405.402344 185.167969 C 410.925781 185.167969 415.402344 189.644531 415.402344 195.167969 \"/>\n",
       "</g>\n",
       "</svg>\n"
      ],
      "text/plain": [
       "<igraph.drawing.Plot at 0x202cff09b70>"
      ]
     },
     "execution_count": 188,
     "metadata": {
      "image/svg+xml": {
       "isolated": true
      }
     },
     "output_type": "execute_result"
    }
   ],
   "source": [
    "ig.plot(G)"
   ]
  },
  {
   "cell_type": "code",
   "execution_count": null,
   "metadata": {},
   "outputs": [],
   "source": []
  }
 ],
 "metadata": {
  "kernelspec": {
   "display_name": "Python 3",
   "language": "python",
   "name": "python3"
  },
  "language_info": {
   "codemirror_mode": {
    "name": "ipython",
    "version": 3
   },
   "file_extension": ".py",
   "mimetype": "text/x-python",
   "name": "python",
   "nbconvert_exporter": "python",
   "pygments_lexer": "ipython3",
   "version": "3.7.3"
  }
 },
 "nbformat": 4,
 "nbformat_minor": 4
}
